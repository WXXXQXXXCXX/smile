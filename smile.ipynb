{
  "nbformat": 4,
  "nbformat_minor": 0,
  "metadata": {
    "colab": {
      "name": "smile.ipynb",
      "provenance": [],
      "collapsed_sections": [],
      "include_colab_link": true
    },
    "kernelspec": {
      "display_name": "Python 3",
      "name": "python3"
    },
    "language_info": {
      "name": "python"
    },
    "accelerator": "GPU"
  },
  "cells": [
    {
      "cell_type": "markdown",
      "metadata": {
        "id": "view-in-github",
        "colab_type": "text"
      },
      "source": [
        "<a href=\"https://colab.research.google.com/github/WXXXQXXXCXX/smile/blob/vgg_model_1/smile.ipynb\" target=\"_parent\"><img src=\"https://colab.research.google.com/assets/colab-badge.svg\" alt=\"Open In Colab\"/></a>"
      ]
    },
    {
      "cell_type": "code",
      "metadata": {
        "colab": {
          "base_uri": "https://localhost:8080/"
        },
        "id": "qEuH1t0vTE0S",
        "outputId": "86193a02-04b4-4d47-ca67-64730416ebeb"
      },
      "source": [
        "from google.colab import drive\n",
        "drive.mount('/content/drive/')"
      ],
      "execution_count": null,
      "outputs": [
        {
          "output_type": "stream",
          "name": "stdout",
          "text": [
            "Mounted at /content/drive/\n"
          ]
        }
      ]
    },
    {
      "cell_type": "code",
      "metadata": {
        "id": "AK_ZSE8vTvBm"
      },
      "source": [
        "!pip install keras_vggface"
      ],
      "execution_count": null,
      "outputs": []
    },
    {
      "cell_type": "code",
      "metadata": {
        "id": "Dhfn-AH_Vhyy"
      },
      "source": [
        "!pip install keras_applications"
      ],
      "execution_count": null,
      "outputs": []
    },
    {
      "cell_type": "code",
      "metadata": {
        "id": "Tyxi4OtR8S9g"
      },
      "source": [
        "! pip install memory_profiler"
      ],
      "execution_count": null,
      "outputs": []
    },
    {
      "cell_type": "code",
      "metadata": {
        "id": "Ky5CPo1HT1O6"
      },
      "source": [
        "import keras\n",
        "from collections import defaultdict\n",
        "from glob import glob\n",
        "from random import choice, sample\n",
        "from keras.preprocessing import image\n",
        "import numpy as np\n",
        "import pandas as pd\n",
        "from keras.callbacks import ModelCheckpoint, ReduceLROnPlateau, EarlyStopping\n",
        "from keras.layers import Input, Dense, GlobalMaxPool2D, GlobalAvgPool2D, Concatenate, Multiply, Dropout, Subtract, LeakyReLU\n",
        "from keras.models import Model\n",
        "from tensorflow.keras.optimizers import Adam\n",
        "import tensorflow as tf\n",
        "from memory_profiler import memory_usage"
      ],
      "execution_count": 1,
      "outputs": []
    },
    {
      "cell_type": "code",
      "metadata": {
        "id": "MDCF8i_tUTNc"
      },
      "source": [
        "from keras_vggface.utils import preprocess_input\n",
        "from keras_vggface.vggface import VGGFace\n",
        "# keras.utils.layer_utils"
      ],
      "execution_count": 2,
      "outputs": []
    },
    {
      "cell_type": "code",
      "metadata": {
        "id": "CdPjKk0Q6SUq",
        "colab": {
          "base_uri": "https://localhost:8080/"
        },
        "outputId": "58514a8c-db91-4c43-c35a-8150721bec8b"
      },
      "source": [
        "!pip install kaggle"
      ],
      "execution_count": null,
      "outputs": [
        {
          "output_type": "stream",
          "name": "stdout",
          "text": [
            "Requirement already satisfied: kaggle in /usr/local/lib/python3.7/dist-packages (1.5.12)\n",
            "Requirement already satisfied: python-slugify in /usr/local/lib/python3.7/dist-packages (from kaggle) (5.0.2)\n",
            "Requirement already satisfied: python-dateutil in /usr/local/lib/python3.7/dist-packages (from kaggle) (2.8.2)\n",
            "Requirement already satisfied: six>=1.10 in /usr/local/lib/python3.7/dist-packages (from kaggle) (1.15.0)\n",
            "Requirement already satisfied: requests in /usr/local/lib/python3.7/dist-packages (from kaggle) (2.23.0)\n",
            "Requirement already satisfied: urllib3 in /usr/local/lib/python3.7/dist-packages (from kaggle) (1.24.3)\n",
            "Requirement already satisfied: certifi in /usr/local/lib/python3.7/dist-packages (from kaggle) (2021.10.8)\n",
            "Requirement already satisfied: tqdm in /usr/local/lib/python3.7/dist-packages (from kaggle) (4.62.3)\n",
            "Requirement already satisfied: text-unidecode>=1.3 in /usr/local/lib/python3.7/dist-packages (from python-slugify->kaggle) (1.3)\n",
            "Requirement already satisfied: idna<3,>=2.5 in /usr/local/lib/python3.7/dist-packages (from requests->kaggle) (2.10)\n",
            "Requirement already satisfied: chardet<4,>=3.0.2 in /usr/local/lib/python3.7/dist-packages (from requests->kaggle) (3.0.4)\n"
          ]
        }
      ]
    },
    {
      "cell_type": "code",
      "metadata": {
        "id": "M6zVppr76Vu7"
      },
      "source": [
        "!mkdir ~/.kaggle"
      ],
      "execution_count": null,
      "outputs": []
    },
    {
      "cell_type": "code",
      "metadata": {
        "id": "CBX7Jx8e6cI0"
      },
      "source": [
        "! cp kaggle.json ~/.kaggle/"
      ],
      "execution_count": null,
      "outputs": []
    },
    {
      "cell_type": "code",
      "metadata": {
        "id": "xElMd7A06nML"
      },
      "source": [
        "! chmod 600 ~/.kaggle/kaggle.json"
      ],
      "execution_count": null,
      "outputs": []
    },
    {
      "cell_type": "code",
      "metadata": {
        "id": "VvmtwRZc6wsj"
      },
      "source": [
        "!kaggle competitions download recognizing-faces-in-the-wild"
      ],
      "execution_count": null,
      "outputs": []
    },
    {
      "cell_type": "code",
      "metadata": {
        "id": "euTjvdNJ61ao"
      },
      "source": [
        "! unzip train-faces"
      ],
      "execution_count": null,
      "outputs": []
    },
    {
      "cell_type": "code",
      "metadata": {
        "id": "iMdoIm-kaaRe"
      },
      "source": [
        "train_file_path = \"train_relationships.csv\"\n",
        "val_famillies = \"F09\"\n",
        "all_images = glob(\"*/*/*.jpg\")\n",
        "train_images = [x for x in all_images if val_famillies not in x]\n",
        "val_images = [x for x in all_images if val_famillies in x]\n",
        "train_person_to_images_map = defaultdict(list)\n",
        "\n",
        "ppl = [x.split(\"/\")[-3] + \"/\" + x.split(\"/\")[-2] for x in all_images]\n",
        "\n",
        "for x in train_images:\n",
        "    train_person_to_images_map[x.split(\"/\")[-3] + \"/\" + x.split(\"/\")[-2]].append(x)\n",
        "\n",
        "val_person_to_images_map = defaultdict(list)\n",
        "\n",
        "for x in val_images:\n",
        "    val_person_to_images_map[x.split(\"/\")[-3] + \"/\" + x.split(\"/\")[-2]].append(x)"
      ],
      "execution_count": 3,
      "outputs": []
    },
    {
      "cell_type": "code",
      "metadata": {
        "id": "6k-UswjZa4Pk"
      },
      "source": [
        "relationships = pd.read_csv(train_file_path)\n",
        "relationships = list(zip(relationships.p1.values, relationships.p2.values))\n",
        "relationships = [x for x in relationships if x[0] in ppl and x[1] in ppl]\n",
        "\n",
        "train = [x for x in relationships if val_famillies not in x[0]]\n",
        "val = [x for x in relationships if val_famillies in x[0]]"
      ],
      "execution_count": 4,
      "outputs": []
    },
    {
      "cell_type": "code",
      "metadata": {
        "id": "7C9DyA0zvVUF"
      },
      "source": [
        "# hyperparameters\n",
        "EPOCH = 50\n",
        "BATCHSIZE = 16"
      ],
      "execution_count": null,
      "outputs": []
    },
    {
      "cell_type": "code",
      "metadata": {
        "id": "qcWWUarqb8YA"
      },
      "source": [
        "def read_img(path):\n",
        "    img = image.load_img(path, target_size=(197, 197))\n",
        "    img = np.array(img).astype(np.float)\n",
        "    return preprocess_input(img, version=2)"
      ],
      "execution_count": 5,
      "outputs": []
    },
    {
      "cell_type": "code",
      "metadata": {
        "id": "lXkoEwq7PA5_"
      },
      "source": [
        "class DataGenerator(tf.keras.utils.Sequence):\n",
        "  def __init__(self,list_tuples, person_to_images_map, batch_size=16):\n",
        "    self.list_tuples=list_tuples\n",
        "    self.person_to_images_map=person_to_images_map\n",
        "    self.batch_size=batch_size\n",
        "    self.ppl=list(person_to_images_map.keys())\n",
        "\n",
        "  def __len__(self):\n",
        "    return int(np.floor(len(self.list_tuples) / self.batch_size))\n",
        "\n",
        "  def __getitem__(self,index):\n",
        "        'Generate one batch of data'\n",
        "        batch_tuples = sample(self.list_tuples, self.batch_size // 2)\n",
        "        labels = [1] * len(batch_tuples)\n",
        "        while len(batch_tuples) < self.batch_size:\n",
        "            p1 = choice(self.ppl)\n",
        "            p2 = choice(self.ppl)\n",
        "\n",
        "            if p1 != p2 and (p1, p2) not in self.list_tuples and (p2, p1) not in self.list_tuples:\n",
        "                batch_tuples.append((p1, p2))\n",
        "                labels.append(0)\n",
        "\n",
        "        for x in batch_tuples:\n",
        "            if not len(self.person_to_images_map[x[0]]):\n",
        "                print(x[0])\n",
        "\n",
        "        X1 = [choice(self.person_to_images_map[x[0]]) for x in batch_tuples]\n",
        "        X1 = np.array([read_img(x) for x in X1])\n",
        "\n",
        "        X2 = [choice(self.person_to_images_map[x[1]]) for x in batch_tuples]\n",
        "        X2 = np.array([read_img(x) for x in X2])\n",
        "\n",
        "        return [X1, X2], np.array(labels)"
      ],
      "execution_count": 6,
      "outputs": []
    },
    {
      "cell_type": "code",
      "metadata": {
        "id": "19lB-ObKuEUK"
      },
      "source": [
        "\"\"\"\n",
        "result=model.fit(gen(train, train_person_to_images_map, batch_size=16), use_multiprocessing=True,\n",
        "                    validation_data=gen(val, val_person_to_images_map, batch_size=16), epochs=92, verbose=1,\n",
        "                    workers = 4, callbacks=callbacks_list, steps_per_epoch=200, validation_steps=100)\n",
        "\"\"\"\n",
        "def genOnetime(list_tuples, person_to_images_map, epochs=EPOCH, batch_size=16):\n",
        "    ppl = list(person_to_images_map.keys())\n",
        "    resultData1 = []\n",
        "    resultData2 = []\n",
        "    resultLabels = []\n",
        "    for epoch in range(epochs):\n",
        "        batch_tuples = sample(list_tuples, batch_size // 2)\n",
        "        labels = [1] * len(batch_tuples)\n",
        "        while len(batch_tuples) < batch_size:\n",
        "            p1 = choice(ppl)\n",
        "            p2 = choice(ppl)\n",
        "\n",
        "            if p1 != p2 and (p1, p2) not in list_tuples and (p2, p1) not in list_tuples:\n",
        "                batch_tuples.append((p1, p2))\n",
        "                labels.append(0)\n",
        "\n",
        "        for x in batch_tuples:\n",
        "            if not len(person_to_images_map[x[0]]):\n",
        "                print(x[0])\n",
        "\n",
        "        X1 = [choice(person_to_images_map[x[0]]) for x in batch_tuples]\n",
        "        X1 = np.array([read_img(x) for x in X1])\n",
        "\n",
        "        X2 = [choice(person_to_images_map[x[1]]) for x in batch_tuples]\n",
        "        X2 = np.array([read_img(x) for x in X2])\n",
        "\n",
        "        resultData1.extend(X1)\n",
        "        resultData2.extend(X2)\n",
        "        resultLabels.extend(labels)\n",
        "    resultData1 = np.array(resultData1)\n",
        "    resultData2 = np.array(resultData2)\n",
        "    resultLabels = np.array(resultLabels)\n",
        "    return [resultData1,resultData2], resultLabels"
      ],
      "execution_count": null,
      "outputs": []
    },
    {
      "cell_type": "code",
      "metadata": {
        "id": "0J97IPOUcKnR"
      },
      "source": [
        "\n",
        "def baseline_model(learning_rate=0.001, beta1=0.9, beta2=0.99):\n",
        "    input_1 = Input(shape=(197, 197, 3))\n",
        "    input_2 = Input(shape=(197, 197, 3))\n",
        "\n",
        "    base_model = VGGFace(model='resnet50', include_top=False)\n",
        "\n",
        "    for x in base_model.layers:\n",
        "        x.trainable = False\n",
        "\n",
        "    x1 = base_model(input_1)\n",
        "    x2 = base_model(input_2)\n",
        "\n",
        "    x1 = Concatenate(axis=-1)([GlobalMaxPool2D()(x1), GlobalAvgPool2D()(x1)])\n",
        "    x2 = Concatenate(axis=-1)([GlobalMaxPool2D()(x2), GlobalAvgPool2D()(x2)])\n",
        "\n",
        "    x3 = Subtract()([x1, x2])\n",
        "    x3 = Multiply()([x3, x3])\n",
        "\n",
        "    x1_ = Multiply()([x1, x1])\n",
        "    x2_ = Multiply()([x2, x2])\n",
        "    x4 = Subtract()([x1_, x2_])\n",
        "    x = Concatenate(axis=-1)([x4, x3])\n",
        "\n",
        "    x = Dense(48, activation='relu')(x)\n",
        "    #x = LeakyReLU(alpha=0.1)(x)\n",
        "    x = Dropout(0.01)(x)\n",
        "    x = Dense(16, activation='relu')(x)\n",
        "    #x = LeakyReLU(alpha=0.1)(x)\n",
        "    x = Dropout(0.01)(x)\n",
        "    out = Dense(1, activation=\"sigmoid\")(x)\n",
        "\n",
        "    model = Model([input_1, input_2], out)\n",
        "    adam=Adam(learning_rate=learning_rate, beta_1=beta1, beta_2=beta2)\n",
        "    model.compile(loss=\"binary_crossentropy\", metrics=['acc'], optimizer=adam)\n",
        "\n",
        "    model.summary()\n",
        "\n",
        "    return model"
      ],
      "execution_count": 7,
      "outputs": []
    },
    {
      "cell_type": "code",
      "metadata": {
        "id": "bwLmiWQsyBQK"
      },
      "source": [
        "import gc\n",
        "from tensorflow.keras import backend as k\n",
        "from tensorflow.keras.callbacks import Callback\n",
        "from tensorflow.python.keras import backend as K\n",
        "config = tf.compat.v1.ConfigProto()\n",
        "config.gpu_options.allow_growth = True\n",
        "config.gpu_options.per_process_gpu_memory_fraction = 0.24\n",
        "config.gpu_options.visible_device_list = \"0\"\n",
        "K.set_session(tf.compat.v1.Session(config=config))\n",
        "class ClearSessionCallback(tf.keras.callbacks.Callback):\n",
        "    def on_epoch_end(self, epoch, logs=None):\n",
        "        print(f'Memory usage after: {memory_usage()}MB')\n",
        "        gc.collect()\n",
        "        k.clear_session()\n",
        "        print(f'Memory usage after clean up: {memory_usage()}MB')"
      ],
      "execution_count": 8,
      "outputs": []
    },
    {
      "cell_type": "code",
      "metadata": {
        "id": "akYN3MDxcNhS"
      },
      "source": [
        "file_path = \"vgg_face.h5\"\n",
        "\n",
        "checkpoint = ModelCheckpoint(file_path, monitor='val_acc', verbose=1, save_best_only=True, mode='max')\n",
        "reduce_on_plateau = ReduceLROnPlateau(monitor=\"val_acc\", mode=\"max\", factor=0.1, patience=10, verbose=1)\n",
        "clear_session=ClearSessionCallback()\n",
        "earlyStopping=EarlyStopping(monitor=\"val_loss\",mode=\"min\",patience=25)\n",
        "\n",
        "callbacks_list = [checkpoint, reduce_on_plateau, clear_session, earlyStopping]"
      ],
      "execution_count": 9,
      "outputs": []
    },
    {
      "cell_type": "code",
      "metadata": {
        "id": "qJKgWTovwKXx"
      },
      "source": [
        "trdata, trtarget = genOnetime(train, train_person_to_images_map, epochs=EPOCH , batch_size=BATCHSIZE)\n",
        "valdata, valtarget = genOnetime(val, val_person_to_images_map, epochs=EPOCH, batch_size=BATCHSIZE)\n",
        "result=model.fit(x=trdata, y=trtarget, use_multiprocessing=True,\n",
        "                    validation_data=(valdata, valtarget), epochs=EPOCH, verbose=1,\n",
        "                    workers = 4, callbacks=callbacks_list, steps_per_epoch=200, validation_steps=100)"
      ],
      "execution_count": null,
      "outputs": []
    },
    {
      "cell_type": "code",
      "metadata": {
        "colab": {
          "base_uri": "https://localhost:8080/"
        },
        "id": "AB5kOSiJSlPQ",
        "outputId": "853a9dce-4b53-4162-e3ea-7a67c1c1c966"
      },
      "source": [
        "train_gen=DataGenerator(train,train_person_to_images_map,16)\n",
        "val_gen=DataGenerator(val,val_person_to_images_map,16)\n",
        "r=-2*np.random.rand()-2\n",
        "lr=pow(10,r)\n",
        "print(lr,r)\n",
        "model=baseline_model(0.0001)\n",
        "result=model.fit(train_gen, use_multiprocessing=True,\n",
        "          validation_data=val_gen, epochs=100, verbose=1,\n",
        "          workers = 4, callbacks=callbacks_list, steps_per_epoch=180, validation_steps=80)"
      ],
      "execution_count": 10,
      "outputs": [
        {
          "output_type": "stream",
          "name": "stdout",
          "text": [
            "0.0021926798181286784 -2.659024780712772\n",
            "Model: \"model\"\n",
            "__________________________________________________________________________________________________\n",
            " Layer (type)                   Output Shape         Param #     Connected to                     \n",
            "==================================================================================================\n",
            " input_1 (InputLayer)           [(None, 197, 197, 3  0           []                               \n",
            "                                )]                                                                \n",
            "                                                                                                  \n",
            " input_2 (InputLayer)           [(None, 197, 197, 3  0           []                               \n",
            "                                )]                                                                \n",
            "                                                                                                  \n",
            " vggface_resnet50 (Functional)  (None, None, None,   23561152    ['input_1[0][0]',                \n",
            "                                2048)                             'input_2[0][0]']                \n",
            "                                                                                                  \n",
            " global_max_pooling2d (GlobalMa  (None, 2048)        0           ['vggface_resnet50[0][0]']       \n",
            " xPooling2D)                                                                                      \n",
            "                                                                                                  \n",
            " global_average_pooling2d (Glob  (None, 2048)        0           ['vggface_resnet50[0][0]']       \n",
            " alAveragePooling2D)                                                                              \n",
            "                                                                                                  \n",
            " global_max_pooling2d_1 (Global  (None, 2048)        0           ['vggface_resnet50[1][0]']       \n",
            " MaxPooling2D)                                                                                    \n",
            "                                                                                                  \n",
            " global_average_pooling2d_1 (Gl  (None, 2048)        0           ['vggface_resnet50[1][0]']       \n",
            " obalAveragePooling2D)                                                                            \n",
            "                                                                                                  \n",
            " concatenate (Concatenate)      (None, 4096)         0           ['global_max_pooling2d[0][0]',   \n",
            "                                                                  'global_average_pooling2d[0][0]'\n",
            "                                                                 ]                                \n",
            "                                                                                                  \n",
            " concatenate_1 (Concatenate)    (None, 4096)         0           ['global_max_pooling2d_1[0][0]', \n",
            "                                                                  'global_average_pooling2d_1[0][0\n",
            "                                                                 ]']                              \n",
            "                                                                                                  \n",
            " multiply_1 (Multiply)          (None, 4096)         0           ['concatenate[0][0]',            \n",
            "                                                                  'concatenate[0][0]']            \n",
            "                                                                                                  \n",
            " multiply_2 (Multiply)          (None, 4096)         0           ['concatenate_1[0][0]',          \n",
            "                                                                  'concatenate_1[0][0]']          \n",
            "                                                                                                  \n",
            " subtract (Subtract)            (None, 4096)         0           ['concatenate[0][0]',            \n",
            "                                                                  'concatenate_1[0][0]']          \n",
            "                                                                                                  \n",
            " subtract_1 (Subtract)          (None, 4096)         0           ['multiply_1[0][0]',             \n",
            "                                                                  'multiply_2[0][0]']             \n",
            "                                                                                                  \n",
            " multiply (Multiply)            (None, 4096)         0           ['subtract[0][0]',               \n",
            "                                                                  'subtract[0][0]']               \n",
            "                                                                                                  \n",
            " concatenate_2 (Concatenate)    (None, 8192)         0           ['subtract_1[0][0]',             \n",
            "                                                                  'multiply[0][0]']               \n",
            "                                                                                                  \n",
            " dense (Dense)                  (None, 48)           393264      ['concatenate_2[0][0]']          \n",
            "                                                                                                  \n",
            " dropout (Dropout)              (None, 48)           0           ['dense[0][0]']                  \n",
            "                                                                                                  \n",
            " dense_1 (Dense)                (None, 16)           784         ['dropout[0][0]']                \n",
            "                                                                                                  \n",
            " dropout_1 (Dropout)            (None, 16)           0           ['dense_1[0][0]']                \n",
            "                                                                                                  \n",
            " dense_2 (Dense)                (None, 1)            17          ['dropout_1[0][0]']              \n",
            "                                                                                                  \n",
            "==================================================================================================\n",
            "Total params: 23,955,217\n",
            "Trainable params: 394,065\n",
            "Non-trainable params: 23,561,152\n",
            "__________________________________________________________________________________________________\n",
            "Epoch 1/100\n",
            "180/180 [==============================] - ETA: 0s - loss: 4.9404 - acc: 0.5740\n",
            "Epoch 00001: val_acc improved from -inf to 0.55078, saving model to vgg_face.h5\n"
          ]
        },
        {
          "output_type": "stream",
          "name": "stderr",
          "text": [
            "/usr/local/lib/python3.7/dist-packages/keras/engine/functional.py:1410: CustomMaskWarning: Custom mask layers require a config and must override get_config. When loading, the custom mask layer must be passed to the custom_objects argument.\n",
            "  layer_config = serialize_layer_fn(layer)\n"
          ]
        },
        {
          "output_type": "stream",
          "name": "stdout",
          "text": [
            "Memory usage after: [3204.109375]MB\n",
            "Memory usage after clean up: [3204.234375]MB\n",
            "\b\b\b\b\b\b\b\b\b\b\b\b\b\b\b\b\b\b\b\b\b\b\b\b\b\b\b\b\b\b\b\b\b\b\b\b\b\b\b\b\b\b\b\b\b\b\b\b\b\b\b\b\b\b\b\b\b\b\b\b\b\b\b\b\b\b\b\b\b\b\b\b\b\b\b\b\b\b\b\r180/180 [==============================] - 78s 370ms/step - loss: 4.9404 - acc: 0.5740 - val_loss: 2.8401 - val_acc: 0.5508 - lr: 1.0000e-04\n",
            "Epoch 2/100\n",
            "180/180 [==============================] - ETA: 0s - loss: 2.3209 - acc: 0.5885\n",
            "Epoch 00002: val_acc improved from 0.55078 to 0.57187, saving model to vgg_face.h5\n",
            "Memory usage after: [3237.37890625]MB\n",
            "Memory usage after clean up: [3237.3359375]MB\n",
            "180/180 [==============================] - 69s 371ms/step - loss: 2.3209 - acc: 0.5885 - val_loss: 1.9031 - val_acc: 0.5719 - lr: 1.0000e-04\n",
            "Epoch 3/100\n",
            "180/180 [==============================] - ETA: 0s - loss: 1.5101 - acc: 0.6101\n",
            "Epoch 00003: val_acc improved from 0.57187 to 0.57500, saving model to vgg_face.h5\n",
            "Memory usage after: [3237.41015625]MB\n",
            "Memory usage after clean up: [3237.34765625]MB\n",
            "180/180 [==============================] - 69s 373ms/step - loss: 1.5101 - acc: 0.6101 - val_loss: 1.4325 - val_acc: 0.5750 - lr: 1.0000e-04\n",
            "Epoch 4/100\n",
            "180/180 [==============================] - ETA: 0s - loss: 1.1163 - acc: 0.6184\n",
            "Epoch 00004: val_acc did not improve from 0.57500\n",
            "Memory usage after: [3272.98046875]MB\n",
            "Memory usage after clean up: [3272.9140625]MB\n",
            "180/180 [==============================] - 68s 368ms/step - loss: 1.1163 - acc: 0.6184 - val_loss: 1.0870 - val_acc: 0.5672 - lr: 1.0000e-04\n",
            "Epoch 5/100\n",
            "180/180 [==============================] - ETA: 0s - loss: 0.8898 - acc: 0.6181\n",
            "Epoch 00005: val_acc improved from 0.57500 to 0.59688, saving model to vgg_face.h5\n",
            "Memory usage after: [3280.109375]MB\n",
            "Memory usage after clean up: [3280.046875]MB\n",
            "180/180 [==============================] - 85s 464ms/step - loss: 0.8898 - acc: 0.6181 - val_loss: 0.8498 - val_acc: 0.5969 - lr: 1.0000e-04\n",
            "Epoch 6/100\n",
            "180/180 [==============================] - ETA: 0s - loss: 0.7521 - acc: 0.6670\n",
            "Epoch 00006: val_acc did not improve from 0.59688\n",
            "Memory usage after: [3280.109375]MB\n",
            "Memory usage after clean up: [3280.046875]MB\n",
            "180/180 [==============================] - 85s 460ms/step - loss: 0.7521 - acc: 0.6670 - val_loss: 0.7736 - val_acc: 0.5781 - lr: 1.0000e-04\n",
            "Epoch 7/100\n",
            "180/180 [==============================] - ETA: 0s - loss: 0.7022 - acc: 0.6479\n",
            "Epoch 00007: val_acc improved from 0.59688 to 0.63203, saving model to vgg_face.h5\n",
            "Memory usage after: [3280.328125]MB\n",
            "Memory usage after clean up: [3280.2734375]MB\n",
            "180/180 [==============================] - 67s 363ms/step - loss: 0.7022 - acc: 0.6479 - val_loss: 0.6970 - val_acc: 0.6320 - lr: 1.0000e-04\n",
            "Epoch 8/100\n",
            "180/180 [==============================] - ETA: 0s - loss: 0.6818 - acc: 0.6712\n",
            "Epoch 00008: val_acc improved from 0.63203 to 0.63437, saving model to vgg_face.h5\n",
            "Memory usage after: [3280.36328125]MB\n",
            "Memory usage after clean up: [3280.3203125]MB\n",
            "180/180 [==============================] - 68s 367ms/step - loss: 0.6818 - acc: 0.6712 - val_loss: 0.7232 - val_acc: 0.6344 - lr: 1.0000e-04\n",
            "Epoch 9/100\n",
            "180/180 [==============================] - ETA: 0s - loss: 0.6686 - acc: 0.6677\n",
            "Epoch 00009: val_acc improved from 0.63437 to 0.66250, saving model to vgg_face.h5\n",
            "Memory usage after: [3280.4140625]MB\n",
            "Memory usage after clean up: [3280.3515625]MB\n",
            "180/180 [==============================] - 68s 369ms/step - loss: 0.6686 - acc: 0.6677 - val_loss: 0.6941 - val_acc: 0.6625 - lr: 1.0000e-04\n",
            "Epoch 10/100\n",
            "180/180 [==============================] - ETA: 0s - loss: 0.6387 - acc: 0.6806\n",
            "Epoch 00010: val_acc did not improve from 0.66250\n",
            "Memory usage after: [3280.45703125]MB\n",
            "Memory usage after clean up: [3280.37890625]MB\n",
            "180/180 [==============================] - 67s 362ms/step - loss: 0.6387 - acc: 0.6806 - val_loss: 0.7311 - val_acc: 0.6594 - lr: 1.0000e-04\n",
            "Epoch 11/100\n",
            "180/180 [==============================] - ETA: 0s - loss: 0.6333 - acc: 0.7042\n",
            "Epoch 00011: val_acc did not improve from 0.66250\n",
            "Memory usage after: [3280.44921875]MB\n",
            "Memory usage after clean up: [3280.37890625]MB\n",
            "180/180 [==============================] - 66s 358ms/step - loss: 0.6333 - acc: 0.7042 - val_loss: 0.7581 - val_acc: 0.6555 - lr: 1.0000e-04\n",
            "Epoch 12/100\n",
            "180/180 [==============================] - ETA: 0s - loss: 0.5851 - acc: 0.7038\n",
            "Epoch 00012: val_acc did not improve from 0.66250\n",
            "Memory usage after: [3280.46484375]MB\n",
            "Memory usage after clean up: [3280.3828125]MB\n",
            "180/180 [==============================] - 68s 364ms/step - loss: 0.5851 - acc: 0.7038 - val_loss: 0.7449 - val_acc: 0.6477 - lr: 1.0000e-04\n",
            "Epoch 13/100\n",
            "180/180 [==============================] - ETA: 0s - loss: 0.5817 - acc: 0.7097\n",
            "Epoch 00013: val_acc improved from 0.66250 to 0.68359, saving model to vgg_face.h5\n",
            "Memory usage after: [3280.68359375]MB\n",
            "Memory usage after clean up: [3280.62109375]MB\n",
            "180/180 [==============================] - 69s 368ms/step - loss: 0.5817 - acc: 0.7097 - val_loss: 0.8779 - val_acc: 0.6836 - lr: 1.0000e-04\n",
            "Epoch 14/100\n",
            "180/180 [==============================] - ETA: 0s - loss: 0.5754 - acc: 0.7094\n",
            "Epoch 00014: val_acc improved from 0.68359 to 0.68437, saving model to vgg_face.h5\n",
            "Memory usage after: [3280.6796875]MB\n",
            "Memory usage after clean up: [3280.63671875]MB\n",
            "180/180 [==============================] - 68s 364ms/step - loss: 0.5754 - acc: 0.7094 - val_loss: 0.7714 - val_acc: 0.6844 - lr: 1.0000e-04\n",
            "Epoch 15/100\n",
            "180/180 [==============================] - ETA: 0s - loss: 0.5871 - acc: 0.7115\n",
            "Epoch 00015: val_acc did not improve from 0.68437\n",
            "Memory usage after: [3280.73828125]MB\n",
            "Memory usage after clean up: [3280.63671875]MB\n",
            "180/180 [==============================] - 67s 364ms/step - loss: 0.5871 - acc: 0.7115 - val_loss: 0.7936 - val_acc: 0.6383 - lr: 1.0000e-04\n",
            "Epoch 16/100\n",
            "180/180 [==============================] - ETA: 0s - loss: 0.5716 - acc: 0.7125\n",
            "Epoch 00016: val_acc did not improve from 0.68437\n",
            "Memory usage after: [3280.73828125]MB\n",
            "Memory usage after clean up: [3280.63671875]MB\n",
            "180/180 [==============================] - 68s 367ms/step - loss: 0.5716 - acc: 0.7125 - val_loss: 0.8223 - val_acc: 0.6492 - lr: 1.0000e-04\n",
            "Epoch 17/100\n",
            "180/180 [==============================] - ETA: 0s - loss: 0.5448 - acc: 0.7250\n",
            "Epoch 00017: val_acc did not improve from 0.68437\n",
            "Memory usage after: [3280.703125]MB\n",
            "Memory usage after clean up: [3280.640625]MB\n",
            "180/180 [==============================] - 85s 458ms/step - loss: 0.5448 - acc: 0.7250 - val_loss: 0.7518 - val_acc: 0.6727 - lr: 1.0000e-04\n",
            "Epoch 18/100\n",
            "180/180 [==============================] - ETA: 0s - loss: 0.5839 - acc: 0.7212\n",
            "Epoch 00018: val_acc did not improve from 0.68437\n",
            "Memory usage after: [3294.94921875]MB\n",
            "Memory usage after clean up: [3294.84765625]MB\n",
            "180/180 [==============================] - 68s 363ms/step - loss: 0.5839 - acc: 0.7212 - val_loss: 0.8050 - val_acc: 0.6531 - lr: 1.0000e-04\n",
            "Epoch 19/100\n",
            "180/180 [==============================] - ETA: 0s - loss: 0.5322 - acc: 0.7437\n",
            "Epoch 00019: val_acc did not improve from 0.68437\n",
            "Memory usage after: [3294.91015625]MB\n",
            "Memory usage after clean up: [3294.84765625]MB\n",
            "180/180 [==============================] - 84s 456ms/step - loss: 0.5322 - acc: 0.7437 - val_loss: 0.8327 - val_acc: 0.6602 - lr: 1.0000e-04\n",
            "Epoch 20/100\n",
            "180/180 [==============================] - ETA: 0s - loss: 0.5412 - acc: 0.7333\n",
            "Epoch 00020: val_acc did not improve from 0.68437\n",
            "Memory usage after: [3294.91015625]MB\n",
            "Memory usage after clean up: [3294.84765625]MB\n",
            "180/180 [==============================] - 85s 460ms/step - loss: 0.5412 - acc: 0.7333 - val_loss: 0.7658 - val_acc: 0.6773 - lr: 1.0000e-04\n",
            "Epoch 21/100\n",
            "180/180 [==============================] - ETA: 0s - loss: 0.5342 - acc: 0.7240\n",
            "Epoch 00021: val_acc did not improve from 0.68437\n",
            "Memory usage after: [3294.91796875]MB\n",
            "Memory usage after clean up: [3294.84765625]MB\n",
            "180/180 [==============================] - 69s 371ms/step - loss: 0.5342 - acc: 0.7240 - val_loss: 0.9111 - val_acc: 0.6695 - lr: 1.0000e-04\n",
            "Epoch 22/100\n",
            "180/180 [==============================] - ETA: 0s - loss: 0.5382 - acc: 0.7424\n",
            "Epoch 00022: val_acc did not improve from 0.68437\n",
            "Memory usage after: [3294.91015625]MB\n",
            "Memory usage after clean up: [3294.84765625]MB\n",
            "180/180 [==============================] - 85s 459ms/step - loss: 0.5382 - acc: 0.7424 - val_loss: 0.7621 - val_acc: 0.6742 - lr: 1.0000e-04\n",
            "Epoch 23/100\n",
            "180/180 [==============================] - ETA: 0s - loss: 0.5228 - acc: 0.7486\n",
            "Epoch 00023: val_acc did not improve from 0.68437\n",
            "Memory usage after: [3294.953125]MB\n",
            "Memory usage after clean up: [3294.8515625]MB\n",
            "180/180 [==============================] - 68s 366ms/step - loss: 0.5228 - acc: 0.7486 - val_loss: 0.8092 - val_acc: 0.6523 - lr: 1.0000e-04\n",
            "Epoch 24/100\n",
            "180/180 [==============================] - ETA: 0s - loss: 0.5094 - acc: 0.7493\n",
            "Epoch 00024: val_acc did not improve from 0.68437\n",
            "\n",
            "Epoch 00024: ReduceLROnPlateau reducing learning rate to 9.999999747378752e-06.\n",
            "Memory usage after: [3294.953125]MB\n",
            "Memory usage after clean up: [3294.8515625]MB\n",
            "180/180 [==============================] - 68s 366ms/step - loss: 0.5094 - acc: 0.7493 - val_loss: 0.8549 - val_acc: 0.6438 - lr: 1.0000e-04\n",
            "Epoch 25/100\n",
            "180/180 [==============================] - ETA: 0s - loss: 0.5227 - acc: 0.7611\n",
            "Epoch 00025: val_acc did not improve from 0.68437\n",
            "Memory usage after: [3294.953125]MB\n",
            "Memory usage after clean up: [3294.8515625]MB\n",
            "180/180 [==============================] - 67s 362ms/step - loss: 0.5227 - acc: 0.7611 - val_loss: 0.9975 - val_acc: 0.6523 - lr: 1.0000e-05\n",
            "Epoch 26/100\n",
            "180/180 [==============================] - ETA: 0s - loss: 0.5222 - acc: 0.7566\n",
            "Epoch 00026: val_acc did not improve from 0.68437\n",
            "Memory usage after: [3294.95703125]MB\n",
            "Memory usage after clean up: [3294.85546875]MB\n",
            "180/180 [==============================] - 67s 361ms/step - loss: 0.5222 - acc: 0.7566 - val_loss: 0.7662 - val_acc: 0.6602 - lr: 1.0000e-05\n",
            "Epoch 27/100\n",
            "180/180 [==============================] - ETA: 0s - loss: 0.5166 - acc: 0.7455\n",
            "Epoch 00027: val_acc did not improve from 0.68437\n",
            "Memory usage after: [3309.12890625]MB\n",
            "Memory usage after clean up: [3309.05078125]MB\n",
            "180/180 [==============================] - 67s 360ms/step - loss: 0.5166 - acc: 0.7455 - val_loss: 0.9725 - val_acc: 0.6445 - lr: 1.0000e-05\n",
            "Epoch 28/100\n",
            "180/180 [==============================] - ETA: 0s - loss: 0.5069 - acc: 0.7486\n",
            "Epoch 00028: val_acc did not improve from 0.68437\n",
            "Memory usage after: [3309.16015625]MB\n",
            "Memory usage after clean up: [3309.09765625]MB\n",
            "180/180 [==============================] - 83s 453ms/step - loss: 0.5069 - acc: 0.7486 - val_loss: 0.8796 - val_acc: 0.6555 - lr: 1.0000e-05\n",
            "Epoch 29/100\n",
            "180/180 [==============================] - ETA: 0s - loss: 0.4829 - acc: 0.7601\n",
            "Epoch 00029: val_acc did not improve from 0.68437\n",
            "Memory usage after: [3310.14453125]MB\n",
            "Memory usage after clean up: [3310.07421875]MB\n",
            "180/180 [==============================] - 66s 356ms/step - loss: 0.4829 - acc: 0.7601 - val_loss: 0.9111 - val_acc: 0.6414 - lr: 1.0000e-05\n",
            "Epoch 30/100\n",
            "180/180 [==============================] - ETA: 0s - loss: 0.4764 - acc: 0.7635\n",
            "Epoch 00030: val_acc did not improve from 0.68437\n",
            "Memory usage after: [3310.6015625]MB\n",
            "Memory usage after clean up: [3310.5]MB\n",
            "180/180 [==============================] - 67s 359ms/step - loss: 0.4764 - acc: 0.7635 - val_loss: 0.9248 - val_acc: 0.6625 - lr: 1.0000e-05\n",
            "Epoch 31/100\n",
            "180/180 [==============================] - ETA: 0s - loss: 0.5055 - acc: 0.7514\n",
            "Epoch 00031: val_acc did not improve from 0.68437\n",
            "Memory usage after: [3339.16015625]MB\n",
            "Memory usage after clean up: [3339.05859375]MB\n",
            "180/180 [==============================] - 66s 358ms/step - loss: 0.5055 - acc: 0.7514 - val_loss: 0.9795 - val_acc: 0.6406 - lr: 1.0000e-05\n",
            "Epoch 32/100\n",
            "180/180 [==============================] - ETA: 0s - loss: 0.5014 - acc: 0.7490\n",
            "Epoch 00032: val_acc did not improve from 0.68437\n",
            "Memory usage after: [3339.125]MB\n",
            "Memory usage after clean up: [3339.046875]MB\n",
            "180/180 [==============================] - 66s 355ms/step - loss: 0.5014 - acc: 0.7490 - val_loss: 0.7584 - val_acc: 0.6773 - lr: 1.0000e-05\n",
            "Epoch 33/100\n",
            "180/180 [==============================] - ETA: 0s - loss: 0.5241 - acc: 0.7569\n",
            "Epoch 00033: val_acc did not improve from 0.68437\n",
            "Memory usage after: [3339.109375]MB\n",
            "Memory usage after clean up: [3339.046875]MB\n",
            "180/180 [==============================] - 83s 453ms/step - loss: 0.5241 - acc: 0.7569 - val_loss: 0.8581 - val_acc: 0.6383 - lr: 1.0000e-05\n",
            "Epoch 34/100\n",
            "180/180 [==============================] - ETA: 0s - loss: 0.4867 - acc: 0.7639\n",
            "Epoch 00034: val_acc did not improve from 0.68437\n",
            "\n",
            "Epoch 00034: ReduceLROnPlateau reducing learning rate to 9.999999747378752e-07.\n",
            "Memory usage after: [3339.109375]MB\n",
            "Memory usage after clean up: [3339.046875]MB\n",
            "180/180 [==============================] - 84s 455ms/step - loss: 0.4867 - acc: 0.7639 - val_loss: 0.8562 - val_acc: 0.6422 - lr: 1.0000e-05\n"
          ]
        }
      ]
    },
    {
      "cell_type": "code",
      "metadata": {
        "id": "eWqVHNzgcQk5"
      },
      "source": [
        "import matplotlib.pyplot as plt"
      ],
      "execution_count": 11,
      "outputs": []
    },
    {
      "cell_type": "code",
      "metadata": {
        "colab": {
          "base_uri": "https://localhost:8080/",
          "height": 298
        },
        "id": "hmAN6PQD2Aw1",
        "outputId": "7cb54001-b09a-47e4-cfc8-8e12cb5b4567"
      },
      "source": [
        "fig,ax=plt.subplots(1,1)\n",
        "acc=result.history['acc']\n",
        "val_acc=result.history['val_acc']\n",
        "ax.plot(acc,label=\"train\")\n",
        "ax.plot(val_acc,label=\"test\")\n",
        "ax.set_title(\"vgg_face.h5(2)\")\n",
        "    "
      ],
      "execution_count": 14,
      "outputs": [
        {
          "output_type": "execute_result",
          "data": {
            "text/plain": [
              "Text(0.5, 1.0, 'vgg_face.h5(2)')"
            ]
          },
          "metadata": {},
          "execution_count": 14
        },
        {
          "output_type": "display_data",
          "data": {
            "image/png": "[encoded data removed]",
            "text/plain": [
              "<Figure size 432x288 with 1 Axes>"
            ]
          },
          "metadata": {
            "needs_background": "light"
          }
        }
      ]
    },
    {
      "cell_type": "code",
      "metadata": {
        "id": "uLb21vJ_cSaY"
      },
      "source": [
        "fig,ax=plt.subplots(10,1)\n",
        "for i in range(10):\n",
        "    r=-3*np.random.rand()-1\n",
        "    lr=pow(10,r)\n",
        "    print(lr,r)\n",
        "    model=baseline_model(learning_rate=lr)\n",
        "    result=model.fit(train_gen, use_multiprocessing=True,\n",
        "                    validation_data=val_gen, epochs=100, verbose=1,\n",
        "                    workers = 4, callbacks=callbacks_list, steps_per_epoch=200, validation_steps=80)\n",
        "    acc=result.history['accuracy']\n",
        "    val_acc=result.history['val_acc']\n",
        "    ax[i].plot(acc,label=\"train\")\n",
        "    ax[i].plot(val_acc,label=\"test\")\n",
        "    ax[i].set_title(\"learning rate=\"+str(lr))\n",
        "    "
      ],
      "execution_count": null,
      "outputs": []
    },
    {
      "cell_type": "code",
      "metadata": {
        "id": "EiI7Pf9YvwEA"
      },
      "source": [
        ""
      ],
      "execution_count": null,
      "outputs": []
    }
  ]
}